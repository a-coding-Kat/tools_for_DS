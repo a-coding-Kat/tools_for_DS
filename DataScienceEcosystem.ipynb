{
 "cells": [
  {
   "cell_type": "markdown",
   "id": "f7c79be2-84ca-4230-83ea-f951acb298aa",
   "metadata": {},
   "source": [
    "## Author\n",
    "Katarina"
   ]
  },
  {
   "cell_type": "markdown",
   "id": "d0e6002b-4ab7-42a3-8105-9eebd1a8246c",
   "metadata": {},
   "source": [
    "# Data Science Tools and Ecosystem"
   ]
  },
  {
   "cell_type": "markdown",
   "id": "d1f7798c-c70e-4fe5-b323-d3b7c0ccbaab",
   "metadata": {},
   "source": [
    "In this notebook, Data Science Tools and Ecosystem are summarized."
   ]
  },
  {
   "cell_type": "markdown",
   "id": "4039003f-fee3-4809-8233-e48961359ee6",
   "metadata": {},
   "source": [
    "**Objectives:**\n",
    "- List popular languages for data science\n",
    "- List commonly used libraries in data science\n",
    "- Name three development environment open source tools used in data science"
   ]
  },
  {
   "cell_type": "markdown",
   "id": "84b61474-0b8f-4895-9f6c-74a59b57c4e2",
   "metadata": {},
   "source": [
    "Some of the popular languages that Data Scientists use are:\n",
    "1) Python\n",
    "2) R\n",
    "3) SQL\n",
    "4) Julia"
   ]
  },
  {
   "cell_type": "markdown",
   "id": "1e2626b4-f513-4773-b293-19a526bc7b6e",
   "metadata": {},
   "source": [
    "Some of the commonly used libraries used by Data Scientists include:\n",
    "1) pandas (Python)\n",
    "2) matplotlib (Python)\n",
    "3) seaborn(Python)\n",
    "4) scikit-learn (Python)\n",
    "5) keras (Python)"
   ]
  },
  {
   "cell_type": "markdown",
   "id": "9d009b16-160e-4c4b-ad08-4f4282105ccf",
   "metadata": {},
   "source": [
    "\n",
    "|Data Science Tools|\n",
    "|---|\n",
    "|Jupyter Notebooks|\n",
    "|RStudio|\n",
    "|Visual Studio Code|  \n"
   ]
  },
  {
   "cell_type": "markdown",
   "id": "1cb3d03f-37cf-460b-9e13-9ce6fab4f409",
   "metadata": {},
   "source": [
    "### Below are a few examples of evaluating arithmetic expressions in Python."
   ]
  },
  {
   "cell_type": "code",
   "execution_count": 4,
   "id": "9d181ba5-3d48-42ab-b159-61d134513a4c",
   "metadata": {},
   "outputs": [
    {
     "data": {
      "text/plain": [
       "17"
      ]
     },
     "execution_count": 4,
     "metadata": {},
     "output_type": "execute_result"
    }
   ],
   "source": [
    "# This a simple arithmetic expression to mutiply then add integers\n",
    "(3*4)+5"
   ]
  },
  {
   "cell_type": "code",
   "execution_count": 10,
   "id": "6c88cbf7-6cc2-4b96-a60e-3b4a213e2cfe",
   "metadata": {},
   "outputs": [
    {
     "name": "stdout",
     "output_type": "stream",
     "text": [
      "200 minutes is 3.33 hours.\n"
     ]
    }
   ],
   "source": [
    "# This will convert 200 minutes to hours by diving by 60\n",
    "hours = 200 / 60 \n",
    "print(f'200 minutes is {hours:.2f} hours.')"
   ]
  }
 ],
 "metadata": {
  "kernelspec": {
   "display_name": "Python 3 (ipykernel)",
   "language": "python",
   "name": "python3"
  },
  "language_info": {
   "codemirror_mode": {
    "name": "ipython",
    "version": 3
   },
   "file_extension": ".py",
   "mimetype": "text/x-python",
   "name": "python",
   "nbconvert_exporter": "python",
   "pygments_lexer": "ipython3",
   "version": "3.11.7"
  }
 },
 "nbformat": 4,
 "nbformat_minor": 5
}
